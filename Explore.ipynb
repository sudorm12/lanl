{
 "cells": [
  {
   "cell_type": "code",
   "execution_count": 1,
   "metadata": {},
   "outputs": [
    {
     "name": "stderr",
     "output_type": "stream",
     "text": [
      "Using TensorFlow backend.\n",
      "2019-04-04 19:02:35,033 - DEBUG - Loaded backend module://ipykernel.pylab.backend_inline version unknown.\n"
     ]
    }
   ],
   "source": [
    "import logging\n",
    "import numpy as np\n",
    "import pandas as pd\n",
    "import matplotlib.pyplot as plt\n",
    "import dask\n",
    "import dask.dataframe as dd\n",
    "import keras\n",
    "\n",
    "logging.basicConfig(level=logging.DEBUG, format='%(asctime)s - %(levelname)s - %(message)s')"
   ]
  },
  {
   "cell_type": "markdown",
   "metadata": {},
   "source": [
    "Running the following at the terminal provides (after a few seconds of thinking) the total line length of the file.\n",
    "\n",
    "```\n",
    "% wc -l data/train.csv \n",
    "629145481 data/train.csv\n",
    "```\n",
    "\n",
    "Certainly too much for my pathetic laptop to read all at once. \n",
    "\n",
    "## Loading Sample Data\n",
    "\n",
    "What do the first 10,000,000 lines look like?"
   ]
  },
  {
   "cell_type": "code",
   "execution_count": 10,
   "metadata": {},
   "outputs": [],
   "source": [
    "sample_raw_data = pd.read_csv('data/train.csv', sep=',', nrows=10000000)"
   ]
  },
  {
   "cell_type": "code",
   "execution_count": 11,
   "metadata": {},
   "outputs": [
    {
     "data": {
      "text/html": [
       "<div>\n",
       "<style scoped>\n",
       "    .dataframe tbody tr th:only-of-type {\n",
       "        vertical-align: middle;\n",
       "    }\n",
       "\n",
       "    .dataframe tbody tr th {\n",
       "        vertical-align: top;\n",
       "    }\n",
       "\n",
       "    .dataframe thead th {\n",
       "        text-align: right;\n",
       "    }\n",
       "</style>\n",
       "<table border=\"1\" class=\"dataframe\">\n",
       "  <thead>\n",
       "    <tr style=\"text-align: right;\">\n",
       "      <th></th>\n",
       "      <th>acoustic_data</th>\n",
       "      <th>time_to_failure</th>\n",
       "    </tr>\n",
       "  </thead>\n",
       "  <tbody>\n",
       "    <tr>\n",
       "      <th>0</th>\n",
       "      <td>12</td>\n",
       "      <td>1.4691</td>\n",
       "    </tr>\n",
       "    <tr>\n",
       "      <th>1</th>\n",
       "      <td>6</td>\n",
       "      <td>1.4691</td>\n",
       "    </tr>\n",
       "    <tr>\n",
       "      <th>2</th>\n",
       "      <td>8</td>\n",
       "      <td>1.4691</td>\n",
       "    </tr>\n",
       "    <tr>\n",
       "      <th>3</th>\n",
       "      <td>5</td>\n",
       "      <td>1.4691</td>\n",
       "    </tr>\n",
       "    <tr>\n",
       "      <th>4</th>\n",
       "      <td>8</td>\n",
       "      <td>1.4691</td>\n",
       "    </tr>\n",
       "  </tbody>\n",
       "</table>\n",
       "</div>"
      ],
      "text/plain": [
       "   acoustic_data  time_to_failure\n",
       "0             12           1.4691\n",
       "1              6           1.4691\n",
       "2              8           1.4691\n",
       "3              5           1.4691\n",
       "4              8           1.4691"
      ]
     },
     "execution_count": 11,
     "metadata": {},
     "output_type": "execute_result"
    }
   ],
   "source": [
    "sample_raw_data.head()"
   ]
  },
  {
   "cell_type": "code",
   "execution_count": 12,
   "metadata": {},
   "outputs": [
    {
     "data": {
      "image/png": "[encoded data removed]",
      "text/plain": [
       "<Figure size 432x288 with 2 Axes>"
      ]
     },
     "metadata": {
      "needs_background": "light"
     },
     "output_type": "display_data"
    }
   ],
   "source": [
    "sample_raw_data.plot(subplots=True);"
   ]
  },
  {
   "cell_type": "code",
   "execution_count": 13,
   "metadata": {},
   "outputs": [
    {
     "data": {
      "text/plain": [
       "0.0007954798229500001"
      ]
     },
     "execution_count": 13,
     "metadata": {},
     "output_type": "execute_result"
    }
   ],
   "source": [
    "sample_raw_data['time_to_failure'].min()"
   ]
  },
  {
   "cell_type": "markdown",
   "metadata": {},
   "source": [
    "Clearly the step size is super tiny here. Interesting little bump maybe 200-300ms before \"failure\". \n",
    "\n",
    "## Counting Number of Quake Events\n",
    "\n",
    "Ok let's see if I can read in the data bit by bit and figure out how many quakes are in the full training file."
   ]
  },
  {
   "cell_type": "code",
   "execution_count": 6,
   "metadata": {},
   "outputs": [
    {
     "data": {
      "text/plain": [
       "1"
      ]
     },
     "execution_count": 6,
     "metadata": {},
     "output_type": "execute_result"
    }
   ],
   "source": [
    "np.sum(sample_raw_data['time_to_failure'].diff().shift(-1) > 0)"
   ]
  },
  {
   "cell_type": "code",
   "execution_count": 7,
   "metadata": {},
   "outputs": [
    {
     "name": "stdout",
     "output_type": "stream",
     "text": [
      "16\n"
     ]
    }
   ],
   "source": [
    "train_reader = pd.read_csv('data/train.csv', sep=',', chunksize=10000000)\n",
    "\n",
    "quakes = 0\n",
    "for chunk in train_reader:\n",
    "    quakes += np.sum(chunk['time_to_failure'].diff().shift(-1) > 0)\n",
    "    \n",
    "    \n",
    "print(quakes)"
   ]
  },
  {
   "cell_type": "markdown",
   "metadata": {},
   "source": [
    "I'd like to take a closer look at one of the sections of data and apply some transforms to see if anything stands out."
   ]
  },
  {
   "cell_type": "code",
   "execution_count": 14,
   "metadata": {},
   "outputs": [
    {
     "data": {
      "image/png": "[encoded data removed]",
      "text/plain": [
       "<Figure size 432x288 with 2 Axes>"
      ]
     },
     "metadata": {
      "needs_background": "light"
     },
     "output_type": "display_data"
    }
   ],
   "source": [
    "bump_start = 3300000\n",
    "\n",
    "bump_sample = sample_raw_data.loc[bump_start:bump_start + 150000 - 1]\n",
    "bump_sample.plot(subplots=True);"
   ]
  },
  {
   "cell_type": "code",
   "execution_count": 15,
   "metadata": {},
   "outputs": [
    {
     "data": {
      "text/plain": [
       "2.6199035793571947e-07"
      ]
     },
     "execution_count": 15,
     "metadata": {},
     "output_type": "execute_result"
    }
   ],
   "source": [
    "t_step = -np.mean(bump_sample['time_to_failure'].diff().shift(-1))\n",
    "t_step"
   ]
  },
  {
   "cell_type": "markdown",
   "metadata": {},
   "source": [
    "## Loading Specific Data Chunks With Pandas"
   ]
  },
  {
   "cell_type": "code",
   "execution_count": 6,
   "metadata": {},
   "outputs": [],
   "source": [
    "specific_raw_data = pd.read_csv('data/train.csv', sep=',', skiprows=524328831, nrows=150000, header=0)"
   ]
  },
  {
   "cell_type": "code",
   "execution_count": 7,
   "metadata": {},
   "outputs": [
    {
     "data": {
      "text/html": [
       "<div>\n",
       "<style scoped>\n",
       "    .dataframe tbody tr th:only-of-type {\n",
       "        vertical-align: middle;\n",
       "    }\n",
       "\n",
       "    .dataframe tbody tr th {\n",
       "        vertical-align: top;\n",
       "    }\n",
       "\n",
       "    .dataframe thead th {\n",
       "        text-align: right;\n",
       "    }\n",
       "</style>\n",
       "<table border=\"1\" class=\"dataframe\">\n",
       "  <thead>\n",
       "    <tr style=\"text-align: right;\">\n",
       "      <th></th>\n",
       "      <th>3</th>\n",
       "      <th>1.1563955383</th>\n",
       "    </tr>\n",
       "  </thead>\n",
       "  <tbody>\n",
       "    <tr>\n",
       "      <th>0</th>\n",
       "      <td>7</td>\n",
       "      <td>1.156396</td>\n",
       "    </tr>\n",
       "    <tr>\n",
       "      <th>1</th>\n",
       "      <td>2</td>\n",
       "      <td>1.156396</td>\n",
       "    </tr>\n",
       "    <tr>\n",
       "      <th>2</th>\n",
       "      <td>2</td>\n",
       "      <td>1.156396</td>\n",
       "    </tr>\n",
       "    <tr>\n",
       "      <th>3</th>\n",
       "      <td>5</td>\n",
       "      <td>1.156396</td>\n",
       "    </tr>\n",
       "    <tr>\n",
       "      <th>4</th>\n",
       "      <td>4</td>\n",
       "      <td>1.156396</td>\n",
       "    </tr>\n",
       "  </tbody>\n",
       "</table>\n",
       "</div>"
      ],
      "text/plain": [
       "   3  1.1563955383\n",
       "0  7      1.156396\n",
       "1  2      1.156396\n",
       "2  2      1.156396\n",
       "3  5      1.156396\n",
       "4  4      1.156396"
      ]
     },
     "execution_count": 7,
     "metadata": {},
     "output_type": "execute_result"
    }
   ],
   "source": [
    "specific_raw_data.head()"
   ]
  },
  {
   "cell_type": "code",
   "execution_count": 14,
   "metadata": {},
   "outputs": [
    {
     "data": {
      "text/plain": [
       "array([ 76,  98, 137, 177, 124, 107,  47,  40,  59,  44])"
      ]
     },
     "execution_count": 14,
     "metadata": {},
     "output_type": "execute_result"
    }
   ],
   "source": [
    "split_index = np.arange(0, 200)\n",
    "np.random.choice(split_index, size=10)"
   ]
  },
  {
   "cell_type": "code",
   "execution_count": 5,
   "metadata": {},
   "outputs": [],
   "source": [
    "# don't do this\n",
    "#full_raw_data = pd.read_csv('data/train.csv', sep=',', dtype={'acoustic_data': np.int16, 'time_to_failure': np.float16})"
   ]
  },
  {
   "cell_type": "markdown",
   "metadata": {},
   "source": [
    "## Loading Data Chunks With Dask"
   ]
  },
  {
   "cell_type": "code",
   "execution_count": 2,
   "metadata": {},
   "outputs": [],
   "source": [
    "import dask\n",
    "import dask.dataframe as dd"
   ]
  },
  {
   "cell_type": "code",
   "execution_count": 3,
   "metadata": {},
   "outputs": [],
   "source": [
    "data_dask = dd.read_csv(\"data/train.csv\",  dtype={'acoustic_data': np.int16, 'time_to_failure': np.float64}, blocksize=25e6)"
   ]
  },
  {
   "cell_type": "code",
   "execution_count": 4,
   "metadata": {},
   "outputs": [
    {
     "data": {
      "text/plain": [
       "dask.array<getitem, shape=(10000, 2), dtype=float64, chunksize=(10000, 2)>"
      ]
     },
     "execution_count": 4,
     "metadata": {},
     "output_type": "execute_result"
    }
   ],
   "source": [
    "array_dask = data_dask.to_dask_array(lengths=True)\n",
    "array_dask = dask.array.rechunk(array_dask, chunks=(150000, 2))\n",
    "array_dask[500000:510000:,]"
   ]
  },
  {
   "cell_type": "code",
   "execution_count": 5,
   "metadata": {},
   "outputs": [
    {
     "data": {
      "text/plain": [
       "array([[ 1.        ,  1.33929967],\n",
       "       [-2.        ,  1.33929967],\n",
       "       [ 0.        ,  1.33929966],\n",
       "       ...,\n",
       "       [ 7.        ,  1.33719768],\n",
       "       [ 2.        ,  1.33719768],\n",
       "       [ 8.        ,  1.33719768]])"
      ]
     },
     "execution_count": 5,
     "metadata": {},
     "output_type": "execute_result"
    }
   ],
   "source": [
    "array_dask[500000:510000:,].compute()"
   ]
  },
  {
   "cell_type": "code",
   "execution_count": 6,
   "metadata": {},
   "outputs": [
    {
     "name": "stdout",
     "output_type": "stream",
     "text": [
      "(150000, 2)\n",
      "(150000, 2)\n",
      "(150000, 2)\n"
     ]
    }
   ],
   "source": [
    "sample_index = np.random.choice(629145479, size=3)\n",
    "\n",
    "data_list = []\n",
    "target_list = []\n",
    "for i in range(0, 3):\n",
    "    sample_data = array_dask[sample_index[i]:sample_index[i]+150000].compute()\n",
    "    data_list.append(sample_data[:,0])\n",
    "    target_list.append(sample_data[-1,1])\n",
    "    print(sample_data.shape)"
   ]
  },
  {
   "cell_type": "code",
   "execution_count": 7,
   "metadata": {},
   "outputs": [],
   "source": [
    "n = 5\n",
    "sample_index_start = np.random.choice(629145479, size=n)"
   ]
  },
  {
   "cell_type": "code",
   "execution_count": 8,
   "metadata": {},
   "outputs": [
    {
     "data": {
      "text/plain": [
       "array([[ 2.,  2.,  2.,  6.,  8.,  9.,  3.,  5.,  8.,  8.],\n",
       "       [ 3.,  3., 10.,  7.,  8.,  8.,  3.,  4.,  4.,  4.],\n",
       "       [ 1.,  7.,  6.,  6.,  4.,  0.,  2.,  3.,  5.,  4.],\n",
       "       [ 6.,  9.,  9.,  4.,  9., 10.,  5.,  3.,  4.,  1.],\n",
       "       [-3.,  2.,  0.,  4.,  8.,  4.,  7.,  4.,  4.,  5.]])"
      ]
     },
     "execution_count": 8,
     "metadata": {},
     "output_type": "execute_result"
    }
   ],
   "source": [
    "l = 10\n",
    "sample_index = [np.arange(i, i+l) for i in sample_index_start]\n",
    "ts_sample = array_dask[:, 0][np.concatenate(sample_index)].reshape((n, l))\n",
    "ts_sample.compute()"
   ]
  },
  {
   "cell_type": "code",
   "execution_count": 9,
   "metadata": {},
   "outputs": [
    {
     "data": {
      "text/plain": [
       "array([6, 7, 8, 9, 4, 5, 6, 7, 2, 3, 4, 5, 0, 1, 2, 3])"
      ]
     },
     "execution_count": 9,
     "metadata": {},
     "output_type": "execute_result"
    }
   ],
   "source": [
    "st_size = 4\n",
    "overlap_size = 2\n",
    "\n",
    "# resample_index = np.concatenate([np.arange(i, i+st_size) for i in np.arange(0, l - st_size + 1, st_size - overlap_size)])\n",
    "resample_index = np.concatenate([np.arange(i, i+st_size) for i in np.arange(l - st_size, -1, -(st_size - overlap_size))])\n",
    "resample_index"
   ]
  },
  {
   "cell_type": "code",
   "execution_count": 10,
   "metadata": {},
   "outputs": [
    {
     "data": {
      "text/plain": [
       "array([[[ 3.,  5.,  8.,  8.],\n",
       "        [ 8.,  9.,  3.,  5.],\n",
       "        [ 2.,  6.,  8.,  9.],\n",
       "        [ 2.,  2.,  2.,  6.]],\n",
       "\n",
       "       [[ 3.,  4.,  4.,  4.],\n",
       "        [ 8.,  8.,  3.,  4.],\n",
       "        [10.,  7.,  8.,  8.],\n",
       "        [ 3.,  3., 10.,  7.]],\n",
       "\n",
       "       [[ 2.,  3.,  5.,  4.],\n",
       "        [ 4.,  0.,  2.,  3.],\n",
       "        [ 6.,  6.,  4.,  0.],\n",
       "        [ 1.,  7.,  6.,  6.]],\n",
       "\n",
       "       [[ 5.,  3.,  4.,  1.],\n",
       "        [ 9., 10.,  5.,  3.],\n",
       "        [ 9.,  4.,  9., 10.],\n",
       "        [ 6.,  9.,  9.,  4.]],\n",
       "\n",
       "       [[ 7.,  4.,  4.,  5.],\n",
       "        [ 8.,  4.,  7.,  4.],\n",
       "        [ 0.,  4.,  8.,  4.],\n",
       "        [-3.,  2.,  0.,  4.]]])"
      ]
     },
     "execution_count": 10,
     "metadata": {},
     "output_type": "execute_result"
    }
   ],
   "source": [
    "ts_sample[:, resample_index].reshape((n, -1, st_size)).compute()"
   ]
  },
  {
   "cell_type": "code",
   "execution_count": 11,
   "metadata": {},
   "outputs": [
    {
     "data": {
      "text/plain": [
       "629145480"
      ]
     },
     "execution_count": 11,
     "metadata": {},
     "output_type": "execute_result"
    }
   ],
   "source": [
    "len(array_dask[:, 0])"
   ]
  },
  {
   "cell_type": "code",
   "execution_count": 12,
   "metadata": {},
   "outputs": [],
   "source": [
    "n = 5\n",
    "l = 100\n",
    "st_size = 50\n",
    "overlap_size = 25\n",
    "\n",
    "def get_random_samples(x, n, l):\n",
    "    sample_index_start = np.random.choice(len(x) - l, size=n)\n",
    "    sample_index = [np.arange(i, i+l) for i in sample_index_start]\n",
    "    samples = x[np.concatenate(sample_index)].reshape((n, l))\n",
    "    return(samples, sample_index_start)\n",
    "\n",
    "def overlapping_resample(x, sample_size, overlap_size):\n",
    "    resample_index = np.concatenate([np.arange(i, i + sample_size) for i in np.arange(0, x.shape[1] - sample_size + 1, sample_size - overlap_size)])\n",
    "    resample = x[:, resample_index].reshape((x.shape[0], -1, sample_size))\n",
    "    return(resample)\n",
    "\n",
    "ts_sample, sample_index = get_random_samples(array_dask[:, 0], n, l)\n",
    "ts_resample = overlapping_resample(ts_sample, st_size, overlap_size)\n",
    "target = array_dask[sample_index + l, 1]"
   ]
  },
  {
   "cell_type": "code",
   "execution_count": 13,
   "metadata": {},
   "outputs": [
    {
     "data": {
      "text/plain": [
       "(5, 3, 50)"
      ]
     },
     "execution_count": 13,
     "metadata": {},
     "output_type": "execute_result"
    }
   ],
   "source": [
    "ts_resample.shape"
   ]
  },
  {
   "cell_type": "code",
   "execution_count": 14,
   "metadata": {},
   "outputs": [
    {
     "data": {
      "text/plain": [
       "array([10.50179884,  3.0650966 ,  1.58009819,  4.09759571,  2.68139555])"
      ]
     },
     "execution_count": 14,
     "metadata": {},
     "output_type": "execute_result"
    }
   ],
   "source": [
    "target.compute()"
   ]
  },
  {
   "cell_type": "code",
   "execution_count": 15,
   "metadata": {},
   "outputs": [
    {
     "data": {
      "text/plain": [
       "dask.array<fft, shape=(5, 3, 50), dtype=complex128, chunksize=(1, 3, 50)>"
      ]
     },
     "execution_count": 15,
     "metadata": {},
     "output_type": "execute_result"
    }
   ],
   "source": [
    "dask.array.fft.fft(ts_resample)"
   ]
  },
  {
   "cell_type": "code",
   "execution_count": 16,
   "metadata": {},
   "outputs": [],
   "source": [
    "sample_means = ts_resample.mean(axis=-1, keepdims=True)\n",
    "sample_vars = ts_resample.var(axis=-1, keepdims=True)"
   ]
  },
  {
   "cell_type": "code",
   "execution_count": 17,
   "metadata": {},
   "outputs": [],
   "source": [
    "sample_qts = [np.percentile(ts_resample, q=qt, axis=-1, keepdims=True) for qt in [1, 5, 50, 95, 99]]"
   ]
  },
  {
   "cell_type": "code",
   "execution_count": 18,
   "metadata": {},
   "outputs": [
    {
     "data": {
      "text/plain": [
       "(5, 3, 5)"
      ]
     },
     "execution_count": 18,
     "metadata": {},
     "output_type": "execute_result"
    }
   ],
   "source": [
    "dask.array.concatenate(sample_qts, axis=2).shape"
   ]
  },
  {
   "cell_type": "code",
   "execution_count": 19,
   "metadata": {},
   "outputs": [],
   "source": [
    "sample_stats = dask.array.concatenate([sample_means, sample_vars, *sample_qts], axis=2)"
   ]
  },
  {
   "cell_type": "code",
   "execution_count": 20,
   "metadata": {},
   "outputs": [
    {
     "data": {
      "text/plain": [
       "(array([[[ 4.96],\n",
       "         [ 5.4 ],\n",
       "         [ 4.88]],\n",
       " \n",
       "        [[ 4.56],\n",
       "         [ 4.38],\n",
       "         [ 4.74]],\n",
       " \n",
       "        [[-3.66],\n",
       "         [14.24],\n",
       "         [14.28]],\n",
       " \n",
       "        [[ 5.18],\n",
       "         [ 5.06],\n",
       "         [ 4.56]],\n",
       " \n",
       "        [[ 4.08],\n",
       "         [ 4.82],\n",
       "         [ 4.56]]]), array([[[8.4384000e+00],\n",
       "         [8.0400000e+00],\n",
       "         [6.7456000e+00]],\n",
       " \n",
       "        [[8.4064000e+00],\n",
       "         [5.3956000e+00],\n",
       "         [5.4324000e+00]],\n",
       " \n",
       "        [[4.4370644e+03],\n",
       "         [4.4893824e+03],\n",
       "         [6.5788816e+03]],\n",
       " \n",
       "        [[6.5076000e+00],\n",
       "         [6.8564000e+00],\n",
       "         [7.4064000e+00]],\n",
       " \n",
       "        [[8.6736000e+00],\n",
       "         [8.9876000e+00],\n",
       "         [9.7264000e+00]]]), array([[[ 4.9600000e+00,  8.4384000e+00, -1.0000000e+00,  4.5000000e-01,\n",
       "           5.0000000e+00,  9.0000000e+00,  1.1020000e+01],\n",
       "         [ 5.4000000e+00,  8.0400000e+00, -5.1000000e-01,  4.5000000e-01,\n",
       "           5.0000000e+00,  1.0100000e+01,  1.1510000e+01],\n",
       "         [ 4.8800000e+00,  6.7456000e+00, -1.0000000e+00,  0.0000000e+00,\n",
       "           5.0000000e+00,  8.0000000e+00,  1.1000000e+01]],\n",
       " \n",
       "        [[ 4.5600000e+00,  8.4064000e+00, -2.0000000e+00,  4.5000000e-01,\n",
       "           5.0000000e+00,  9.1000000e+00,  1.1510000e+01],\n",
       "         [ 4.3800000e+00,  5.3956000e+00,  4.9000000e-01,  1.0000000e+00,\n",
       "           4.5000000e+00,  8.0000000e+00,  9.0200000e+00],\n",
       "         [ 4.7400000e+00,  5.4324000e+00, -5.3000000e-01,  1.0000000e+00,\n",
       "           5.0000000e+00,  8.0000000e+00,  8.0000000e+00]],\n",
       " \n",
       "        [[-3.6600000e+00,  4.4370644e+03, -1.0100000e+02, -9.3650000e+01,\n",
       "          -8.5000000e+00,  1.2860000e+02,  1.4402000e+02],\n",
       "         [ 1.4240000e+01,  4.4893824e+03, -1.0100000e+02, -9.3650000e+01,\n",
       "           1.5000000e+00,  1.2860000e+02,  1.4402000e+02],\n",
       "         [ 1.4280000e+01,  6.5788816e+03, -1.7506000e+02, -1.5695000e+02,\n",
       "           2.0000000e+01,  1.2265000e+02,  1.2500000e+02]],\n",
       " \n",
       "        [[ 5.1800000e+00,  6.5076000e+00, -2.0000000e-02,  1.0000000e+00,\n",
       "           5.0000000e+00,  9.0000000e+00,  1.0000000e+01],\n",
       "         [ 5.0600000e+00,  6.8564000e+00,  4.9000000e-01,  1.0000000e+00,\n",
       "           5.0000000e+00,  9.0000000e+00,  9.5100000e+00],\n",
       "         [ 4.5600000e+00,  7.4064000e+00, -5.1000000e-01,  0.0000000e+00,\n",
       "           5.0000000e+00,  9.0000000e+00,  9.0000000e+00]],\n",
       " \n",
       "        [[ 4.0800000e+00,  8.6736000e+00, -5.1000000e-01,  0.0000000e+00,\n",
       "           4.0000000e+00,  8.5500000e+00,  1.0510000e+01],\n",
       "         [ 4.8200000e+00,  8.9876000e+00, -5.1000000e-01,  0.0000000e+00,\n",
       "           5.5000000e+00,  9.5500000e+00,  1.0510000e+01],\n",
       "         [ 4.5600000e+00,  9.7264000e+00, -3.0000000e+00,  0.0000000e+00,\n",
       "           4.5000000e+00,  9.0000000e+00,  1.0000000e+01]]]))"
      ]
     },
     "execution_count": 20,
     "metadata": {},
     "output_type": "execute_result"
    }
   ],
   "source": [
    "sample_means.compute(), sample_vars.compute(), sample_stats.compute()"
   ]
  },
  {
   "cell_type": "markdown",
   "metadata": {},
   "source": [
    "## Loading Test Data with Dask"
   ]
  },
  {
   "cell_type": "code",
   "execution_count": 15,
   "metadata": {},
   "outputs": [],
   "source": [
    "test_dd = dd.read_csv('data/test/*.csv')"
   ]
  },
  {
   "cell_type": "code",
   "execution_count": 18,
   "metadata": {},
   "outputs": [
    {
     "data": {
      "text/html": [
       "<div>\n",
       "<style scoped>\n",
       "    .dataframe tbody tr th:only-of-type {\n",
       "        vertical-align: middle;\n",
       "    }\n",
       "\n",
       "    .dataframe tbody tr th {\n",
       "        vertical-align: top;\n",
       "    }\n",
       "\n",
       "    .dataframe thead th {\n",
       "        text-align: right;\n",
       "    }\n",
       "</style>\n",
       "<table border=\"1\" class=\"dataframe\">\n",
       "  <thead>\n",
       "    <tr style=\"text-align: right;\">\n",
       "      <th></th>\n",
       "      <th>acoustic_data</th>\n",
       "    </tr>\n",
       "  </thead>\n",
       "  <tbody>\n",
       "    <tr>\n",
       "      <th>0</th>\n",
       "      <td>4</td>\n",
       "    </tr>\n",
       "    <tr>\n",
       "      <th>1</th>\n",
       "      <td>0</td>\n",
       "    </tr>\n",
       "    <tr>\n",
       "      <th>2</th>\n",
       "      <td>-2</td>\n",
       "    </tr>\n",
       "    <tr>\n",
       "      <th>3</th>\n",
       "      <td>0</td>\n",
       "    </tr>\n",
       "    <tr>\n",
       "      <th>4</th>\n",
       "      <td>2</td>\n",
       "    </tr>\n",
       "  </tbody>\n",
       "</table>\n",
       "</div>"
      ],
      "text/plain": [
       "   acoustic_data\n",
       "0              4\n",
       "1              0\n",
       "2             -2\n",
       "3              0\n",
       "4              2"
      ]
     },
     "execution_count": 18,
     "metadata": {},
     "output_type": "execute_result"
    }
   ],
   "source": [
    "test_dd.head()"
   ]
  },
  {
   "cell_type": "code",
   "execution_count": 19,
   "metadata": {},
   "outputs": [],
   "source": [
    "test_darray = test_dd['acoustic_data'].to_dask_array(lengths=True).reshape(-1, 150000)"
   ]
  },
  {
   "cell_type": "code",
   "execution_count": 23,
   "metadata": {},
   "outputs": [],
   "source": [
    "from os import listdir\n",
    "\n",
    "test_files = sorted(listdir('data/test'))"
   ]
  },
  {
   "cell_type": "code",
   "execution_count": 28,
   "metadata": {},
   "outputs": [
    {
     "data": {
      "text/plain": [
       "(array([ 6, 10,  7,  7,  6,  8,  8,  4,  8,  5]), 'seg_87f6c8.csv')"
      ]
     },
     "execution_count": 28,
     "metadata": {},
     "output_type": "execute_result"
    }
   ],
   "source": [
    "i = 1350\n",
    "test_darray[i,:10].compute(), test_files[i]"
   ]
  },
  {
   "cell_type": "code",
   "execution_count": null,
   "metadata": {},
   "outputs": [],
   "source": []
  },
  {
   "cell_type": "markdown",
   "metadata": {},
   "source": [
    "## Testing the Data Loader Class"
   ]
  },
  {
   "cell_type": "code",
   "execution_count": 4,
   "metadata": {},
   "outputs": [],
   "source": [
    "from prepare_data import LANLDataLoader"
   ]
  },
  {
   "cell_type": "code",
   "execution_count": 2,
   "metadata": {},
   "outputs": [
    {
     "ename": "KeyboardInterrupt",
     "evalue": "",
     "output_type": "error",
     "traceback": [
      "\u001b[0;31m---------------------------------------------------------------------------\u001b[0m",
      "\u001b[0;31mKeyboardInterrupt\u001b[0m                         Traceback (most recent call last)",
      "\u001b[0;32m<ipython-input-2-b604bb9a10cb>\u001b[0m in \u001b[0;36m<module>\u001b[0;34m\u001b[0m\n\u001b[1;32m      1\u001b[0m \u001b[0;32mfrom\u001b[0m \u001b[0mprepare_data\u001b[0m \u001b[0;32mimport\u001b[0m \u001b[0mLANLDataLoader\u001b[0m\u001b[0;34m\u001b[0m\u001b[0m\n\u001b[1;32m      2\u001b[0m \u001b[0;34m\u001b[0m\u001b[0m\n\u001b[0;32m----> 3\u001b[0;31m \u001b[0mloader\u001b[0m \u001b[0;34m=\u001b[0m \u001b[0mLANLDataLoader\u001b[0m\u001b[0;34m(\u001b[0m\u001b[0;34m)\u001b[0m\u001b[0;34m\u001b[0m\u001b[0m\n\u001b[0m\u001b[1;32m      4\u001b[0m \u001b[0mdata\u001b[0m\u001b[0;34m,\u001b[0m \u001b[0mtarget\u001b[0m \u001b[0;34m=\u001b[0m \u001b[0mloader\u001b[0m\u001b[0;34m.\u001b[0m\u001b[0mload_train_data\u001b[0m\u001b[0;34m(\u001b[0m\u001b[0;34m)\u001b[0m\u001b[0;34m\u001b[0m\u001b[0m\n",
      "\u001b[0;32m~/Documents/Projects/lanl/prepare_data.py\u001b[0m in \u001b[0;36m__init__\u001b[0;34m(self)\u001b[0m\n\u001b[1;32m     22\u001b[0m         data_dask = dd.read_csv(\"data/train.csv\", dtype={'acoustic_data': np.int16, 'time_to_failure': np.float64},\n\u001b[1;32m     23\u001b[0m                                 blocksize=25e6)\n\u001b[0;32m---> 24\u001b[0;31m         \u001b[0marray_dask\u001b[0m \u001b[0;34m=\u001b[0m \u001b[0mdata_dask\u001b[0m\u001b[0;34m.\u001b[0m\u001b[0mto_dask_array\u001b[0m\u001b[0;34m(\u001b[0m\u001b[0mlengths\u001b[0m\u001b[0;34m=\u001b[0m\u001b[0;32mTrue\u001b[0m\u001b[0;34m)\u001b[0m\u001b[0;34m\u001b[0m\u001b[0m\n\u001b[0m\u001b[1;32m     25\u001b[0m         \u001b[0mself\u001b[0m\u001b[0;34m.\u001b[0m\u001b[0m_data_array\u001b[0m \u001b[0;34m=\u001b[0m \u001b[0mdask\u001b[0m\u001b[0;34m.\u001b[0m\u001b[0marray\u001b[0m\u001b[0;34m.\u001b[0m\u001b[0mrechunk\u001b[0m\u001b[0;34m(\u001b[0m\u001b[0marray_dask\u001b[0m\u001b[0;34m,\u001b[0m \u001b[0mchunks\u001b[0m\u001b[0;34m=\u001b[0m\u001b[0;34m(\u001b[0m\u001b[0mself\u001b[0m\u001b[0;34m.\u001b[0m\u001b[0m_sample_length\u001b[0m\u001b[0;34m,\u001b[0m \u001b[0;36m2\u001b[0m\u001b[0;34m)\u001b[0m\u001b[0;34m)\u001b[0m\u001b[0;34m\u001b[0m\u001b[0m\n\u001b[1;32m     26\u001b[0m         \u001b[0mlogging\u001b[0m\u001b[0;34m.\u001b[0m\u001b[0mdebug\u001b[0m\u001b[0;34m(\u001b[0m\u001b[0;34m'Done'\u001b[0m\u001b[0;34m)\u001b[0m\u001b[0;34m\u001b[0m\u001b[0m\n",
      "\u001b[0;32m~/.local/lib/python3.5/site-packages/dask/dataframe/core.py\u001b[0m in \u001b[0;36mto_dask_array\u001b[0;34m(self, lengths)\u001b[0m\n\u001b[1;32m   1126\u001b[0m \u001b[0;34m\u001b[0m\u001b[0m\n\u001b[1;32m   1127\u001b[0m         \u001b[0;32mif\u001b[0m \u001b[0mlengths\u001b[0m \u001b[0;32mis\u001b[0m \u001b[0;32mTrue\u001b[0m\u001b[0;34m:\u001b[0m\u001b[0;34m\u001b[0m\u001b[0m\n\u001b[0;32m-> 1128\u001b[0;31m             \u001b[0mlengths\u001b[0m \u001b[0;34m=\u001b[0m \u001b[0mtuple\u001b[0m\u001b[0;34m(\u001b[0m\u001b[0mself\u001b[0m\u001b[0;34m.\u001b[0m\u001b[0mmap_partitions\u001b[0m\u001b[0;34m(\u001b[0m\u001b[0mlen\u001b[0m\u001b[0;34m)\u001b[0m\u001b[0;34m.\u001b[0m\u001b[0mcompute\u001b[0m\u001b[0;34m(\u001b[0m\u001b[0;34m)\u001b[0m\u001b[0;34m)\u001b[0m\u001b[0;34m\u001b[0m\u001b[0m\n\u001b[0m\u001b[1;32m   1129\u001b[0m \u001b[0;34m\u001b[0m\u001b[0m\n\u001b[1;32m   1130\u001b[0m         \u001b[0marr\u001b[0m \u001b[0;34m=\u001b[0m \u001b[0mself\u001b[0m\u001b[0;34m.\u001b[0m\u001b[0mmap_partitions\u001b[0m\u001b[0;34m(\u001b[0m\u001b[0mnp\u001b[0m\u001b[0;34m.\u001b[0m\u001b[0marray\u001b[0m\u001b[0;34m,\u001b[0m \u001b[0;34m)\u001b[0m\u001b[0;34m\u001b[0m\u001b[0m\n",
      "\u001b[0;32m~/.local/lib/python3.5/site-packages/dask/base.py\u001b[0m in \u001b[0;36mcompute\u001b[0;34m(self, **kwargs)\u001b[0m\n\u001b[1;32m    154\u001b[0m         \u001b[0mdask\u001b[0m\u001b[0;34m.\u001b[0m\u001b[0mbase\u001b[0m\u001b[0;34m.\u001b[0m\u001b[0mcompute\u001b[0m\u001b[0;34m\u001b[0m\u001b[0m\n\u001b[1;32m    155\u001b[0m         \"\"\"\n\u001b[0;32m--> 156\u001b[0;31m         \u001b[0;34m(\u001b[0m\u001b[0mresult\u001b[0m\u001b[0;34m,\u001b[0m\u001b[0;34m)\u001b[0m \u001b[0;34m=\u001b[0m \u001b[0mcompute\u001b[0m\u001b[0;34m(\u001b[0m\u001b[0mself\u001b[0m\u001b[0;34m,\u001b[0m \u001b[0mtraverse\u001b[0m\u001b[0;34m=\u001b[0m\u001b[0;32mFalse\u001b[0m\u001b[0;34m,\u001b[0m \u001b[0;34m**\u001b[0m\u001b[0mkwargs\u001b[0m\u001b[0;34m)\u001b[0m\u001b[0;34m\u001b[0m\u001b[0m\n\u001b[0m\u001b[1;32m    157\u001b[0m         \u001b[0;32mreturn\u001b[0m \u001b[0mresult\u001b[0m\u001b[0;34m\u001b[0m\u001b[0m\n\u001b[1;32m    158\u001b[0m \u001b[0;34m\u001b[0m\u001b[0m\n",
      "\u001b[0;32m~/.local/lib/python3.5/site-packages/dask/base.py\u001b[0m in \u001b[0;36mcompute\u001b[0;34m(*args, **kwargs)\u001b[0m\n\u001b[1;32m    396\u001b[0m     \u001b[0mkeys\u001b[0m \u001b[0;34m=\u001b[0m \u001b[0;34m[\u001b[0m\u001b[0mx\u001b[0m\u001b[0;34m.\u001b[0m\u001b[0m__dask_keys__\u001b[0m\u001b[0;34m(\u001b[0m\u001b[0;34m)\u001b[0m \u001b[0;32mfor\u001b[0m \u001b[0mx\u001b[0m \u001b[0;32min\u001b[0m \u001b[0mcollections\u001b[0m\u001b[0;34m]\u001b[0m\u001b[0;34m\u001b[0m\u001b[0m\n\u001b[1;32m    397\u001b[0m     \u001b[0mpostcomputes\u001b[0m \u001b[0;34m=\u001b[0m \u001b[0;34m[\u001b[0m\u001b[0mx\u001b[0m\u001b[0;34m.\u001b[0m\u001b[0m__dask_postcompute__\u001b[0m\u001b[0;34m(\u001b[0m\u001b[0;34m)\u001b[0m \u001b[0;32mfor\u001b[0m \u001b[0mx\u001b[0m \u001b[0;32min\u001b[0m \u001b[0mcollections\u001b[0m\u001b[0;34m]\u001b[0m\u001b[0;34m\u001b[0m\u001b[0m\n\u001b[0;32m--> 398\u001b[0;31m     \u001b[0mresults\u001b[0m \u001b[0;34m=\u001b[0m \u001b[0mschedule\u001b[0m\u001b[0;34m(\u001b[0m\u001b[0mdsk\u001b[0m\u001b[0;34m,\u001b[0m \u001b[0mkeys\u001b[0m\u001b[0;34m,\u001b[0m \u001b[0;34m**\u001b[0m\u001b[0mkwargs\u001b[0m\u001b[0;34m)\u001b[0m\u001b[0;34m\u001b[0m\u001b[0m\n\u001b[0m\u001b[1;32m    399\u001b[0m     \u001b[0;32mreturn\u001b[0m \u001b[0mrepack\u001b[0m\u001b[0;34m(\u001b[0m\u001b[0;34m[\u001b[0m\u001b[0mf\u001b[0m\u001b[0;34m(\u001b[0m\u001b[0mr\u001b[0m\u001b[0;34m,\u001b[0m \u001b[0;34m*\u001b[0m\u001b[0ma\u001b[0m\u001b[0;34m)\u001b[0m \u001b[0;32mfor\u001b[0m \u001b[0mr\u001b[0m\u001b[0;34m,\u001b[0m \u001b[0;34m(\u001b[0m\u001b[0mf\u001b[0m\u001b[0;34m,\u001b[0m \u001b[0ma\u001b[0m\u001b[0;34m)\u001b[0m \u001b[0;32min\u001b[0m \u001b[0mzip\u001b[0m\u001b[0;34m(\u001b[0m\u001b[0mresults\u001b[0m\u001b[0;34m,\u001b[0m \u001b[0mpostcomputes\u001b[0m\u001b[0;34m)\u001b[0m\u001b[0;34m]\u001b[0m\u001b[0;34m)\u001b[0m\u001b[0;34m\u001b[0m\u001b[0m\n\u001b[1;32m    400\u001b[0m \u001b[0;34m\u001b[0m\u001b[0m\n",
      "\u001b[0;32m~/.local/lib/python3.5/site-packages/dask/threaded.py\u001b[0m in \u001b[0;36mget\u001b[0;34m(dsk, result, cache, num_workers, pool, **kwargs)\u001b[0m\n\u001b[1;32m     74\u001b[0m     results = get_async(pool.apply_async, len(pool._pool), dsk, result,\n\u001b[1;32m     75\u001b[0m                         \u001b[0mcache\u001b[0m\u001b[0;34m=\u001b[0m\u001b[0mcache\u001b[0m\u001b[0;34m,\u001b[0m \u001b[0mget_id\u001b[0m\u001b[0;34m=\u001b[0m\u001b[0m_thread_get_id\u001b[0m\u001b[0;34m,\u001b[0m\u001b[0;34m\u001b[0m\u001b[0m\n\u001b[0;32m---> 76\u001b[0;31m                         pack_exception=pack_exception, **kwargs)\n\u001b[0m\u001b[1;32m     77\u001b[0m \u001b[0;34m\u001b[0m\u001b[0m\n\u001b[1;32m     78\u001b[0m     \u001b[0;31m# Cleanup pools associated to dead threads\u001b[0m\u001b[0;34m\u001b[0m\u001b[0;34m\u001b[0m\u001b[0m\n",
      "\u001b[0;32m~/.local/lib/python3.5/site-packages/dask/local.py\u001b[0m in \u001b[0;36mget_async\u001b[0;34m(apply_async, num_workers, dsk, result, cache, get_id, rerun_exceptions_locally, pack_exception, raise_exception, callbacks, dumps, loads, **kwargs)\u001b[0m\n\u001b[1;32m    451\u001b[0m             \u001b[0;31m# Main loop, wait on tasks to finish, insert new ones\u001b[0m\u001b[0;34m\u001b[0m\u001b[0;34m\u001b[0m\u001b[0m\n\u001b[1;32m    452\u001b[0m             \u001b[0;32mwhile\u001b[0m \u001b[0mstate\u001b[0m\u001b[0;34m[\u001b[0m\u001b[0;34m'waiting'\u001b[0m\u001b[0;34m]\u001b[0m \u001b[0;32mor\u001b[0m \u001b[0mstate\u001b[0m\u001b[0;34m[\u001b[0m\u001b[0;34m'ready'\u001b[0m\u001b[0;34m]\u001b[0m \u001b[0;32mor\u001b[0m \u001b[0mstate\u001b[0m\u001b[0;34m[\u001b[0m\u001b[0;34m'running'\u001b[0m\u001b[0;34m]\u001b[0m\u001b[0;34m:\u001b[0m\u001b[0;34m\u001b[0m\u001b[0m\n\u001b[0;32m--> 453\u001b[0;31m                 \u001b[0mkey\u001b[0m\u001b[0;34m,\u001b[0m \u001b[0mres_info\u001b[0m\u001b[0;34m,\u001b[0m \u001b[0mfailed\u001b[0m \u001b[0;34m=\u001b[0m \u001b[0mqueue_get\u001b[0m\u001b[0;34m(\u001b[0m\u001b[0mqueue\u001b[0m\u001b[0;34m)\u001b[0m\u001b[0;34m\u001b[0m\u001b[0m\n\u001b[0m\u001b[1;32m    454\u001b[0m                 \u001b[0;32mif\u001b[0m \u001b[0mfailed\u001b[0m\u001b[0;34m:\u001b[0m\u001b[0;34m\u001b[0m\u001b[0m\n\u001b[1;32m    455\u001b[0m                     \u001b[0mexc\u001b[0m\u001b[0;34m,\u001b[0m \u001b[0mtb\u001b[0m \u001b[0;34m=\u001b[0m \u001b[0mloads\u001b[0m\u001b[0;34m(\u001b[0m\u001b[0mres_info\u001b[0m\u001b[0;34m)\u001b[0m\u001b[0;34m\u001b[0m\u001b[0m\n",
      "\u001b[0;32m~/.local/lib/python3.5/site-packages/dask/local.py\u001b[0m in \u001b[0;36mqueue_get\u001b[0;34m(q)\u001b[0m\n\u001b[1;32m    139\u001b[0m \u001b[0;32melse\u001b[0m\u001b[0;34m:\u001b[0m\u001b[0;34m\u001b[0m\u001b[0m\n\u001b[1;32m    140\u001b[0m     \u001b[0;32mdef\u001b[0m \u001b[0mqueue_get\u001b[0m\u001b[0;34m(\u001b[0m\u001b[0mq\u001b[0m\u001b[0;34m)\u001b[0m\u001b[0;34m:\u001b[0m\u001b[0;34m\u001b[0m\u001b[0m\n\u001b[0;32m--> 141\u001b[0;31m         \u001b[0;32mreturn\u001b[0m \u001b[0mq\u001b[0m\u001b[0;34m.\u001b[0m\u001b[0mget\u001b[0m\u001b[0;34m(\u001b[0m\u001b[0;34m)\u001b[0m\u001b[0;34m\u001b[0m\u001b[0m\n\u001b[0m\u001b[1;32m    142\u001b[0m \u001b[0;34m\u001b[0m\u001b[0m\n\u001b[1;32m    143\u001b[0m \u001b[0;34m\u001b[0m\u001b[0m\n",
      "\u001b[0;32m/usr/lib/python3.5/queue.py\u001b[0m in \u001b[0;36mget\u001b[0;34m(self, block, timeout)\u001b[0m\n\u001b[1;32m    162\u001b[0m             \u001b[0;32melif\u001b[0m \u001b[0mtimeout\u001b[0m \u001b[0;32mis\u001b[0m \u001b[0;32mNone\u001b[0m\u001b[0;34m:\u001b[0m\u001b[0;34m\u001b[0m\u001b[0m\n\u001b[1;32m    163\u001b[0m                 \u001b[0;32mwhile\u001b[0m \u001b[0;32mnot\u001b[0m \u001b[0mself\u001b[0m\u001b[0;34m.\u001b[0m\u001b[0m_qsize\u001b[0m\u001b[0;34m(\u001b[0m\u001b[0;34m)\u001b[0m\u001b[0;34m:\u001b[0m\u001b[0;34m\u001b[0m\u001b[0m\n\u001b[0;32m--> 164\u001b[0;31m                     \u001b[0mself\u001b[0m\u001b[0;34m.\u001b[0m\u001b[0mnot_empty\u001b[0m\u001b[0;34m.\u001b[0m\u001b[0mwait\u001b[0m\u001b[0;34m(\u001b[0m\u001b[0;34m)\u001b[0m\u001b[0;34m\u001b[0m\u001b[0m\n\u001b[0m\u001b[1;32m    165\u001b[0m             \u001b[0;32melif\u001b[0m \u001b[0mtimeout\u001b[0m \u001b[0;34m<\u001b[0m \u001b[0;36m0\u001b[0m\u001b[0;34m:\u001b[0m\u001b[0;34m\u001b[0m\u001b[0m\n\u001b[1;32m    166\u001b[0m                 \u001b[0;32mraise\u001b[0m \u001b[0mValueError\u001b[0m\u001b[0;34m(\u001b[0m\u001b[0;34m\"'timeout' must be a non-negative number\"\u001b[0m\u001b[0;34m)\u001b[0m\u001b[0;34m\u001b[0m\u001b[0m\n",
      "\u001b[0;32m/usr/lib/python3.5/threading.py\u001b[0m in \u001b[0;36mwait\u001b[0;34m(self, timeout)\u001b[0m\n\u001b[1;32m    291\u001b[0m         \u001b[0;32mtry\u001b[0m\u001b[0;34m:\u001b[0m    \u001b[0;31m# restore state no matter what (e.g., KeyboardInterrupt)\u001b[0m\u001b[0;34m\u001b[0m\u001b[0m\n\u001b[1;32m    292\u001b[0m             \u001b[0;32mif\u001b[0m \u001b[0mtimeout\u001b[0m \u001b[0;32mis\u001b[0m \u001b[0;32mNone\u001b[0m\u001b[0;34m:\u001b[0m\u001b[0;34m\u001b[0m\u001b[0m\n\u001b[0;32m--> 293\u001b[0;31m                 \u001b[0mwaiter\u001b[0m\u001b[0;34m.\u001b[0m\u001b[0macquire\u001b[0m\u001b[0;34m(\u001b[0m\u001b[0;34m)\u001b[0m\u001b[0;34m\u001b[0m\u001b[0m\n\u001b[0m\u001b[1;32m    294\u001b[0m                 \u001b[0mgotit\u001b[0m \u001b[0;34m=\u001b[0m \u001b[0;32mTrue\u001b[0m\u001b[0;34m\u001b[0m\u001b[0m\n\u001b[1;32m    295\u001b[0m             \u001b[0;32melse\u001b[0m\u001b[0;34m:\u001b[0m\u001b[0;34m\u001b[0m\u001b[0m\n",
      "\u001b[0;31mKeyboardInterrupt\u001b[0m: "
     ]
    }
   ],
   "source": [
    "loader = LANLDataLoader()\n",
    "data, target = loader.load_train_data()"
   ]
  },
  {
   "cell_type": "code",
   "execution_count": 4,
   "metadata": {},
   "outputs": [
    {
     "data": {
      "text/plain": [
       "(200, 29, 2619)"
      ]
     },
     "execution_count": 4,
     "metadata": {},
     "output_type": "execute_result"
    }
   ],
   "source": [
    "data[1].compute().shape"
   ]
  },
  {
   "cell_type": "code",
   "execution_count": 69,
   "metadata": {},
   "outputs": [
    {
     "data": {
      "text/plain": [
       "dask.array<getitem, shape=(200,), dtype=float64, chunksize=(2,)>"
      ]
     },
     "execution_count": 69,
     "metadata": {},
     "output_type": "execute_result"
    }
   ],
   "source": [
    "target"
   ]
  },
  {
   "cell_type": "code",
   "execution_count": 8,
   "metadata": {},
   "outputs": [
    {
     "data": {
      "text/plain": [
       "(29, 4)"
      ]
     },
     "execution_count": 8,
     "metadata": {},
     "output_type": "execute_result"
    }
   ],
   "source": [
    "data[0].shape[1:]"
   ]
  },
  {
   "cell_type": "code",
   "execution_count": 5,
   "metadata": {},
   "outputs": [
    {
     "data": {
      "text/plain": [
       "[(29,), (29,)]"
      ]
     },
     "execution_count": 5,
     "metadata": {},
     "output_type": "execute_result"
    }
   ],
   "source": [
    "loader.get_input_shape()"
   ]
  },
  {
   "cell_type": "code",
   "execution_count": 8,
   "metadata": {},
   "outputs": [],
   "source": [
    "train_args = {\n",
    "    'n_samples': 40,\n",
    "}\n",
    "val_args = {\n",
    "    'n_samples': 10\n",
    "}\n",
    "loader_args = {\n",
    "    'st_size': 1500,\n",
    "    'overlap_size': 500,\n",
    "    'fft_f_cutoff': 500\n",
    "}\n",
    "\n",
    "loader = LANLDataLoader()\n",
    "train_data, train_target, val_data, val_target = loader.load_train_val(\n",
    "    train_args=train_args, val_args=val_args, loader_args=loader_args)"
   ]
  },
  {
   "cell_type": "code",
   "execution_count": 9,
   "metadata": {},
   "outputs": [
    {
     "data": {
      "text/plain": [
       "(40, 149, 393)"
      ]
     },
     "execution_count": 9,
     "metadata": {},
     "output_type": "execute_result"
    }
   ],
   "source": [
    "train_data[1].shape"
   ]
  },
  {
   "cell_type": "markdown",
   "metadata": {},
   "source": [
    "## DFT (Discrete Fourier Transform)\n",
    "Good info on implementation in the [numpy docs](https://docs.scipy.org/doc/numpy/reference/routines.fft.html#background-information)"
   ]
  },
  {
   "cell_type": "code",
   "execution_count": 17,
   "metadata": {},
   "outputs": [],
   "source": [
    "from numpy.fft import fft\n",
    "\n",
    "bump_fft = fft(bump_sample['acoustic_data'])"
   ]
  },
  {
   "cell_type": "code",
   "execution_count": 11,
   "metadata": {},
   "outputs": [
    {
     "data": {
      "text/plain": [
       "(150000,)"
      ]
     },
     "execution_count": 11,
     "metadata": {},
     "output_type": "execute_result"
    }
   ],
   "source": [
    "bump_fft.shape"
   ]
  },
  {
   "cell_type": "code",
   "execution_count": 12,
   "metadata": {},
   "outputs": [],
   "source": [
    "fft_freqs = np.fft.fftfreq(len(bump_fft)) / t_step / 1000 # in kHz"
   ]
  },
  {
   "cell_type": "code",
   "execution_count": 13,
   "metadata": {},
   "outputs": [
    {
     "data": {
      "image/png": "[encoded data removed]",
      "text/plain": [
       "<Figure size 432x288 with 1 Axes>"
      ]
     },
     "metadata": {
      "needs_background": "light"
     },
     "output_type": "display_data"
    }
   ],
   "source": [
    "plt.plot(fft_freqs, np.abs(bump_fft));"
   ]
  },
  {
   "cell_type": "code",
   "execution_count": 14,
   "metadata": {},
   "outputs": [
    {
     "data": {
      "image/png": "[encoded data removed]",
      "text/plain": [
       "<Figure size 432x288 with 1 Axes>"
      ]
     },
     "metadata": {
      "needs_background": "light"
     },
     "output_type": "display_data"
    }
   ],
   "source": [
    "plt.plot(fft_freqs, np.angle(bump_fft));"
   ]
  },
  {
   "cell_type": "code",
   "execution_count": 15,
   "metadata": {},
   "outputs": [
    {
     "data": {
      "image/png": "[encoded data removed]",
      "text/plain": [
       "<Figure size 432x288 with 1 Axes>"
      ]
     },
     "metadata": {
      "needs_background": "light"
     },
     "output_type": "display_data"
    }
   ],
   "source": [
    "plt.plot(fft_freqs, np.real(bump_fft));"
   ]
  },
  {
   "cell_type": "code",
   "execution_count": 16,
   "metadata": {},
   "outputs": [
    {
     "data": {
      "image/png": "[encoded data removed]",
      "text/plain": [
       "<Figure size 432x288 with 1 Axes>"
      ]
     },
     "metadata": {
      "needs_background": "light"
     },
     "output_type": "display_data"
    }
   ],
   "source": [
    "plt.plot(fft_freqs, np.imag(bump_fft));"
   ]
  },
  {
   "cell_type": "markdown",
   "metadata": {},
   "source": [
    "Lots of low frequency components. "
   ]
  },
  {
   "cell_type": "code",
   "execution_count": 17,
   "metadata": {},
   "outputs": [
    {
     "data": {
      "text/plain": [
       "(0, 100000)"
      ]
     },
     "execution_count": 17,
     "metadata": {},
     "output_type": "execute_result"
    },
    {
     "data": {
      "image/png": "[encoded data removed]",
      "text/plain": [
       "<Figure size 432x288 with 1 Axes>"
      ]
     },
     "metadata": {
      "needs_background": "light"
     },
     "output_type": "display_data"
    }
   ],
   "source": [
    "plt.plot(fft_freqs[np.abs(fft_freqs) < 500], np.abs(bump_fft)[np.abs(fft_freqs) < 500])\n",
    "plt.ylim(0, 100000)"
   ]
  },
  {
   "cell_type": "code",
   "execution_count": 18,
   "metadata": {},
   "outputs": [
    {
     "data": {
      "text/plain": [
       "-0.02544622908718787"
      ]
     },
     "execution_count": 18,
     "metadata": {},
     "output_type": "execute_result"
    }
   ],
   "source": [
    "fft_freqs[1]"
   ]
  },
  {
   "cell_type": "markdown",
   "metadata": {},
   "source": [
    "### Short-Time DFT"
   ]
  },
  {
   "cell_type": "code",
   "execution_count": 22,
   "metadata": {},
   "outputs": [],
   "source": [
    "st_size = 1500 # chunk size\n",
    "overlap_size = 500 # overlap between chunks\n",
    "f_cutoff = 500 # frequency cutoff in kHz\n",
    "\n",
    "# define an iterator for returning chunks of an array\n",
    "# with some overlap between chunks\n",
    "def overlapping_chunk(x, length, overlap):\n",
    "    st_cursor = 0\n",
    "    while (st_cursor < len(x)):\n",
    "        if (st_cursor < len(x) - length):\n",
    "            yield x[st_cursor:st_cursor+length]\n",
    "        elif (st_cursor < len(x)):\n",
    "            yield x[st_cursor:]\n",
    "        st_cursor += st_size - overlap\n",
    "    \n",
    "# frequency values returned by fft()\n",
    "freqs = np.fft.fftfreq(st_size) / t_step / 1000 # in kHz\n",
    "\n",
    "# iterate over the data sample using the overlapping chunk iterator\n",
    "stdft_list = []\n",
    "for stdft_time in overlapping_chunk(bump_sample['acoustic_data'], st_size, overlap_size):\n",
    "    # perform fft on each chunk\n",
    "    stdft_freq = fft(stdft_time, n = st_size)\n",
    "    # filter out frequencies above a given value\n",
    "    stdft_freq_filtered = stdft_freq[np.abs(freqs) <= f_cutoff]\n",
    "    # add fft results to the results list\n",
    "    stdft_list.append(np.fft.fftshift(stdft_freq_filtered))\n",
    "    \n",
    "# combine results to create a matrix\n",
    "stdft_stack = np.stack(stdft_list, axis=1)"
   ]
  },
  {
   "cell_type": "code",
   "execution_count": 23,
   "metadata": {},
   "outputs": [
    {
     "data": {
      "image/png": "[encoded data removed]",
      "text/plain": [
       "<Figure size 432x288 with 1 Axes>"
      ]
     },
     "metadata": {
      "needs_background": "light"
     },
     "output_type": "display_data"
    }
   ],
   "source": [
    "plt.imshow(np.log(np.abs(stdft_stack)), aspect='auto');"
   ]
  },
  {
   "cell_type": "markdown",
   "metadata": {},
   "source": [
    "## Wavelet Analysis\n",
    "\n",
    "- Info on wavelet selection [from the MATLAB docs](https://www.mathworks.com/help/wavelet/gs/choose-a-wavelet.html)\n",
    "- Wavelet support on noisy data [again from MATLAB](https://www.mathworks.com/help/wavelet/gs/effect-of-wavelet-support-on-noisy-data.html)"
   ]
  },
  {
   "cell_type": "markdown",
   "metadata": {},
   "source": [
    "## LSTM Model Using STDFT"
   ]
  },
  {
   "cell_type": "code",
   "execution_count": 2,
   "metadata": {},
   "outputs": [
    {
     "name": "stderr",
     "output_type": "stream",
     "text": [
      "2019-03-28 17:45:56,881 - DEBUG - Loading training data...\n",
      "2019-03-28 17:47:50,718 - DEBUG - Done\n",
      "2019-03-28 17:47:50,721 - DEBUG - Preparing 100 random samples...\n",
      "2019-03-28 17:47:52,450 - DEBUG - Calculating rolling statistics...\n",
      "2019-03-28 17:47:52,481 - DEBUG - Performing DFT...\n",
      "2019-03-28 17:47:52,501 - DEBUG - Scaling data...\n",
      "2019-03-28 17:48:59,758 - DEBUG - Calculating input shapes...\n",
      "2019-03-28 17:49:00,444 - DEBUG - Done\n",
      "2019-03-28 17:49:00,446 - DEBUG - Preparing 50 random samples...\n",
      "2019-03-28 17:49:01,003 - DEBUG - Calculating rolling statistics...\n",
      "2019-03-28 17:49:01,025 - DEBUG - Performing DFT...\n",
      "2019-03-28 17:49:01,033 - DEBUG - Scaling data...\n",
      "2019-03-28 17:49:39,042 - DEBUG - Calculating input shapes...\n",
      "2019-03-28 17:49:39,896 - DEBUG - Done\n"
     ]
    }
   ],
   "source": [
    "from prepare_data import LANLDataLoader\n",
    "\n",
    "loader = LANLDataLoader()\n",
    "data_train, target_train = loader.load_train_data(n_samples=100)\n",
    "data_val, target_val = loader.load_train_data(n_samples=50)"
   ]
  },
  {
   "cell_type": "code",
   "execution_count": 3,
   "metadata": {},
   "outputs": [],
   "source": [
    "from keras.models import Sequential, Model\n",
    "from keras.layers import CuDNNLSTM, LSTM, Dense, Dropout, Input, Reshape, concatenate, Permute\n",
    "from keras.regularizers import l2"
   ]
  },
  {
   "cell_type": "code",
   "execution_count": 4,
   "metadata": {},
   "outputs": [
    {
     "name": "stdout",
     "output_type": "stream",
     "text": [
      "WARNING:tensorflow:From /home/sean/.local/lib/python3.5/site-packages/tensorflow/python/framework/op_def_library.py:263: colocate_with (from tensorflow.python.framework.ops) is deprecated and will be removed in a future version.\n",
      "Instructions for updating:\n",
      "Colocations handled automatically by placer.\n"
     ]
    },
    {
     "name": "stderr",
     "output_type": "stream",
     "text": [
      "2019-03-28 17:49:40,123 - WARNING - From /home/sean/.local/lib/python3.5/site-packages/tensorflow/python/framework/op_def_library.py:263: colocate_with (from tensorflow.python.framework.ops) is deprecated and will be removed in a future version.\n",
      "Instructions for updating:\n",
      "Colocations handled automatically by placer.\n"
     ]
    },
    {
     "name": "stdout",
     "output_type": "stream",
     "text": [
      "__________________________________________________________________________________________________\n",
      "Layer (type)                    Output Shape         Param #     Connected to                     \n",
      "==================================================================================================\n",
      "stat_input (InputLayer)         (None, 29, 4)        0                                            \n",
      "__________________________________________________________________________________________________\n",
      "stdft_input (InputLayer)        (None, 29, 2619)     0                                            \n",
      "__________________________________________________________________________________________________\n",
      "stat_permute (Permute)          (None, 4, 29)        0           stat_input[0][0]                 \n",
      "__________________________________________________________________________________________________\n",
      "stdft_permute (Permute)         (None, 2619, 29)     0           stdft_input[0][0]                \n",
      "__________________________________________________________________________________________________\n",
      "stat_lstm (LSTM)                (None, 4)            544         stat_permute[0][0]               \n",
      "__________________________________________________________________________________________________\n",
      "stdft_lstm (LSTM)               (None, 16)           2944        stdft_permute[0][0]              \n",
      "__________________________________________________________________________________________________\n",
      "combined (Concatenate)          (None, 20)           0           stat_lstm[0][0]                  \n",
      "                                                                 stdft_lstm[0][0]                 \n",
      "__________________________________________________________________________________________________\n",
      "combined_dense (Dense)          (None, 64)           1344        combined[0][0]                   \n",
      "__________________________________________________________________________________________________\n",
      "output (Dense)                  (None, 1)            65          combined_dense[0][0]             \n",
      "==================================================================================================\n",
      "Total params: 4,897\n",
      "Trainable params: 4,897\n",
      "Non-trainable params: 0\n",
      "__________________________________________________________________________________________________\n"
     ]
    }
   ],
   "source": [
    "stat_shape, stdft_shape = loader.get_input_shape()\n",
    "\n",
    "stat_input = Input(shape=stat_shape, name='stat_input')\n",
    "stat_permute = Permute(dims=(2, 1), name='stat_permute')(stat_input)\n",
    "stat_lstm = LSTM(4, name='stat_lstm')(stat_permute)\n",
    "\n",
    "stdft_input = Input(shape=stdft_shape, name='stdft_input')\n",
    "stdft_permute = Permute(dims=(2, 1), name='stdft_permute')(stdft_input)\n",
    "stdft_lstm = LSTM(16, name='stdft_lstm')(stdft_permute)\n",
    "\n",
    "combined = concatenate([stat_lstm, stdft_lstm], name='combined')\n",
    "combined_dense = Dense(64, name='combined_dense')(combined)\n",
    "output = Dense(1, name='output')(combined_dense)\n",
    "\n",
    "model = Model(inputs=[stat_input, stdft_input], outputs=output)\n",
    "model.compile(optimizer='adam', loss='mse', metrics=['mse'])\n",
    "model.summary()"
   ]
  },
  {
   "cell_type": "code",
   "execution_count": 5,
   "metadata": {},
   "outputs": [],
   "source": [
    "import time\n",
    "\n",
    "class TimeHistory(keras.callbacks.Callback):\n",
    "    def on_train_begin(self, logs={}):\n",
    "        self.times = []\n",
    "\n",
    "    def on_epoch_begin(self, batch, logs={}):\n",
    "        self.epoch_time_start = time.time()\n",
    "\n",
    "    def on_epoch_end(self, batch, logs={}):\n",
    "        self.times.append(time.time() - self.epoch_time_start)\n",
    "        \n",
    "time_callback = TimeHistory()"
   ]
  },
  {
   "cell_type": "code",
   "execution_count": 6,
   "metadata": {},
   "outputs": [
    {
     "name": "stdout",
     "output_type": "stream",
     "text": [
      "WARNING:tensorflow:From /home/sean/.local/lib/python3.5/site-packages/tensorflow/python/ops/math_ops.py:3066: to_int32 (from tensorflow.python.ops.math_ops) is deprecated and will be removed in a future version.\n",
      "Instructions for updating:\n",
      "Use tf.cast instead.\n"
     ]
    },
    {
     "name": "stderr",
     "output_type": "stream",
     "text": [
      "2019-03-28 17:52:03,829 - WARNING - From /home/sean/.local/lib/python3.5/site-packages/tensorflow/python/ops/math_ops.py:3066: to_int32 (from tensorflow.python.ops.math_ops) is deprecated and will be removed in a future version.\n",
      "Instructions for updating:\n",
      "Use tf.cast instead.\n"
     ]
    },
    {
     "name": "stdout",
     "output_type": "stream",
     "text": [
      "Train on 100 samples, validate on 50 samples\n",
      "Epoch 1/25\n",
      " - 7s - loss: 33.6254 - mean_squared_error: 33.6254 - val_loss: 40.9227 - val_mean_squared_error: 40.9227\n",
      "Epoch 2/25\n",
      " - 5s - loss: 32.7112 - mean_squared_error: 32.7112 - val_loss: 39.9011 - val_mean_squared_error: 39.9011\n",
      "Epoch 3/25\n",
      " - 4s - loss: 31.7911 - mean_squared_error: 31.7911 - val_loss: 38.8868 - val_mean_squared_error: 38.8868\n",
      "Epoch 4/25\n",
      " - 4s - loss: 30.9106 - mean_squared_error: 30.9106 - val_loss: 37.8619 - val_mean_squared_error: 37.8619\n",
      "Epoch 5/25\n",
      " - 4s - loss: 30.0161 - mean_squared_error: 30.0161 - val_loss: 36.8138 - val_mean_squared_error: 36.8138\n",
      "Epoch 6/25\n",
      " - 4s - loss: 29.0884 - mean_squared_error: 29.0884 - val_loss: 35.7190 - val_mean_squared_error: 35.7190\n",
      "Epoch 7/25\n",
      " - 5s - loss: 28.0945 - mean_squared_error: 28.0945 - val_loss: 34.5579 - val_mean_squared_error: 34.5579\n",
      "Epoch 8/25\n",
      " - 5s - loss: 27.0275 - mean_squared_error: 27.0275 - val_loss: 33.3022 - val_mean_squared_error: 33.3022\n",
      "Epoch 9/25\n",
      " - 5s - loss: 25.9021 - mean_squared_error: 25.9021 - val_loss: 31.9338 - val_mean_squared_error: 31.9338\n",
      "Epoch 10/25\n",
      " - 4s - loss: 24.6437 - mean_squared_error: 24.6437 - val_loss: 30.4445 - val_mean_squared_error: 30.4445\n",
      "Epoch 11/25\n",
      " - 4s - loss: 23.2800 - mean_squared_error: 23.2800 - val_loss: 28.8327 - val_mean_squared_error: 28.8327\n",
      "Epoch 12/25\n",
      " - 4s - loss: 21.8884 - mean_squared_error: 21.8884 - val_loss: 27.1016 - val_mean_squared_error: 27.1016\n",
      "Epoch 13/25\n",
      " - 4s - loss: 20.3514 - mean_squared_error: 20.3514 - val_loss: 25.2760 - val_mean_squared_error: 25.2760\n",
      "Epoch 14/25\n",
      " - 4s - loss: 18.8355 - mean_squared_error: 18.8355 - val_loss: 23.3864 - val_mean_squared_error: 23.3864\n",
      "Epoch 15/25\n",
      " - 4s - loss: 17.2571 - mean_squared_error: 17.2571 - val_loss: 21.4865 - val_mean_squared_error: 21.4865\n",
      "Epoch 16/25\n",
      " - 4s - loss: 15.7459 - mean_squared_error: 15.7459 - val_loss: 19.6410 - val_mean_squared_error: 19.6410\n",
      "Epoch 17/25\n",
      " - 4s - loss: 14.3296 - mean_squared_error: 14.3296 - val_loss: 17.9338 - val_mean_squared_error: 17.9338\n",
      "Epoch 18/25\n",
      " - 4s - loss: 13.0373 - mean_squared_error: 13.0373 - val_loss: 16.4463 - val_mean_squared_error: 16.4463\n",
      "Epoch 19/25\n",
      " - 4s - loss: 12.1121 - mean_squared_error: 12.1121 - val_loss: 15.2418 - val_mean_squared_error: 15.2418\n",
      "Epoch 20/25\n",
      " - 4s - loss: 11.5470 - mean_squared_error: 11.5470 - val_loss: 14.3857 - val_mean_squared_error: 14.3857\n",
      "Epoch 21/25\n",
      " - 4s - loss: 11.1958 - mean_squared_error: 11.1958 - val_loss: 13.8875 - val_mean_squared_error: 13.8875\n",
      "Epoch 22/25\n",
      " - 4s - loss: 11.1739 - mean_squared_error: 11.1739 - val_loss: 13.6582 - val_mean_squared_error: 13.6582\n",
      "Epoch 23/25\n",
      " - 4s - loss: 11.2724 - mean_squared_error: 11.2724 - val_loss: 13.5796 - val_mean_squared_error: 13.5796\n",
      "Epoch 24/25\n",
      " - 4s - loss: 11.3922 - mean_squared_error: 11.3922 - val_loss: 13.5418 - val_mean_squared_error: 13.5418\n",
      "Epoch 25/25\n",
      " - 4s - loss: 11.4381 - mean_squared_error: 11.4381 - val_loss: 13.5018 - val_mean_squared_error: 13.5018\n"
     ]
    }
   ],
   "source": [
    "history = model.fit([data.compute() for data in data_train], target_train, \n",
    "                    validation_data=([data.compute() for data in data_val], target_val), \n",
    "                    epochs=25, batch_size=64, verbose=2, callbacks=[time_callback])"
   ]
  },
  {
   "cell_type": "code",
   "execution_count": 7,
   "metadata": {},
   "outputs": [
    {
     "data": {
      "text/plain": [
       "13.501792907714844"
      ]
     },
     "execution_count": 7,
     "metadata": {},
     "output_type": "execute_result"
    }
   ],
   "source": [
    "history.history['val_loss'][-1]"
   ]
  },
  {
   "cell_type": "code",
   "execution_count": 8,
   "metadata": {},
   "outputs": [
    {
     "data": {
      "text/plain": [
       "104.01636791229248"
      ]
     },
     "execution_count": 8,
     "metadata": {},
     "output_type": "execute_result"
    }
   ],
   "source": [
    "np.sum(time_callback.times)"
   ]
  },
  {
   "cell_type": "code",
   "execution_count": 9,
   "metadata": {},
   "outputs": [
    {
     "name": "stderr",
     "output_type": "stream",
     "text": [
      "2019-03-28 17:53:50,457 - DEBUG - Preparing test data\n",
      "2019-03-28 17:54:44,159 - DEBUG - Calculating rolling statistics...\n",
      "2019-03-28 17:54:44,706 - DEBUG - Performing DFT...\n",
      "2019-03-28 17:54:44,722 - DEBUG - Scaling data...\n",
      "2019-03-28 17:54:44,734 - DEBUG - Done\n"
     ]
    }
   ],
   "source": [
    "test_data, test_labels = loader.load_test_data()"
   ]
  },
  {
   "cell_type": "code",
   "execution_count": 10,
   "metadata": {},
   "outputs": [],
   "source": [
    "predictions = model.predict([data[:10, :].compute() for data in test_data])"
   ]
  },
  {
   "cell_type": "code",
   "execution_count": 11,
   "metadata": {},
   "outputs": [
    {
     "data": {
      "text/plain": [
       "array([5.622105 , 4.527251 , 5.5846148, 5.1262403, 5.831129 , 1.5425136,\n",
       "       4.805275 , 5.4108543, 5.340023 , 5.2237854], dtype=float32)"
      ]
     },
     "execution_count": 11,
     "metadata": {},
     "output_type": "execute_result"
    }
   ],
   "source": [
    "predictions.squeeze()"
   ]
  },
  {
   "cell_type": "code",
   "execution_count": 15,
   "metadata": {},
   "outputs": [
    {
     "data": {
      "text/html": [
       "<div>\n",
       "<style scoped>\n",
       "    .dataframe tbody tr th:only-of-type {\n",
       "        vertical-align: middle;\n",
       "    }\n",
       "\n",
       "    .dataframe tbody tr th {\n",
       "        vertical-align: top;\n",
       "    }\n",
       "\n",
       "    .dataframe thead th {\n",
       "        text-align: right;\n",
       "    }\n",
       "</style>\n",
       "<table border=\"1\" class=\"dataframe\">\n",
       "  <thead>\n",
       "    <tr style=\"text-align: right;\">\n",
       "      <th></th>\n",
       "      <th>seg_id</th>\n",
       "      <th>time_to_failure</th>\n",
       "    </tr>\n",
       "  </thead>\n",
       "  <tbody>\n",
       "    <tr>\n",
       "      <th>0</th>\n",
       "      <td>seg_00030f</td>\n",
       "      <td>5.622105</td>\n",
       "    </tr>\n",
       "    <tr>\n",
       "      <th>1</th>\n",
       "      <td>seg_0012b5</td>\n",
       "      <td>4.527251</td>\n",
       "    </tr>\n",
       "    <tr>\n",
       "      <th>2</th>\n",
       "      <td>seg_00184e</td>\n",
       "      <td>5.584615</td>\n",
       "    </tr>\n",
       "    <tr>\n",
       "      <th>3</th>\n",
       "      <td>seg_003339</td>\n",
       "      <td>5.126240</td>\n",
       "    </tr>\n",
       "    <tr>\n",
       "      <th>4</th>\n",
       "      <td>seg_0042cc</td>\n",
       "      <td>5.831129</td>\n",
       "    </tr>\n",
       "    <tr>\n",
       "      <th>5</th>\n",
       "      <td>seg_004314</td>\n",
       "      <td>1.542514</td>\n",
       "    </tr>\n",
       "    <tr>\n",
       "      <th>6</th>\n",
       "      <td>seg_004cd2</td>\n",
       "      <td>4.805275</td>\n",
       "    </tr>\n",
       "    <tr>\n",
       "      <th>7</th>\n",
       "      <td>seg_004ee5</td>\n",
       "      <td>5.410854</td>\n",
       "    </tr>\n",
       "    <tr>\n",
       "      <th>8</th>\n",
       "      <td>seg_004f1f</td>\n",
       "      <td>5.340023</td>\n",
       "    </tr>\n",
       "    <tr>\n",
       "      <th>9</th>\n",
       "      <td>seg_00648a</td>\n",
       "      <td>5.223785</td>\n",
       "    </tr>\n",
       "  </tbody>\n",
       "</table>\n",
       "</div>"
      ],
      "text/plain": [
       "       seg_id  time_to_failure\n",
       "0  seg_00030f         5.622105\n",
       "1  seg_0012b5         4.527251\n",
       "2  seg_00184e         5.584615\n",
       "3  seg_003339         5.126240\n",
       "4  seg_0042cc         5.831129\n",
       "5  seg_004314         1.542514\n",
       "6  seg_004cd2         4.805275\n",
       "7  seg_004ee5         5.410854\n",
       "8  seg_004f1f         5.340023\n",
       "9  seg_00648a         5.223785"
      ]
     },
     "execution_count": 15,
     "metadata": {},
     "output_type": "execute_result"
    }
   ],
   "source": [
    "import re\n",
    "regex = re.compile('.csv')\n",
    "\n",
    "pd.DataFrame({\n",
    "    'seg_id': [re.sub(regex, '', label) for label in test_labels[:10]],\n",
    "    'time_to_failure': predictions.squeeze()\n",
    "})"
   ]
  },
  {
   "cell_type": "code",
   "execution_count": null,
   "metadata": {},
   "outputs": [],
   "source": []
  }
 ],
 "metadata": {
  "kernelspec": {
   "display_name": "Python 3",
   "language": "python",
   "name": "python3"
  },
  "language_info": {
   "codemirror_mode": {
    "name": "ipython",
    "version": 3
   },
   "file_extension": ".py",
   "mimetype": "text/x-python",
   "name": "python",
   "nbconvert_exporter": "python",
   "pygments_lexer": "ipython3",
   "version": "3.5.2"
  }
 },
 "nbformat": 4,
 "nbformat_minor": 2
}
